{
 "cells": [
  {
   "cell_type": "code",
   "execution_count": 1,
   "metadata": {},
   "outputs": [],
   "source": [
    "# date: 7/05/21\n",
    "# introduction to list  datatypes\n",
    "#Overview: List is collection of items defined in particular order\n",
    "#Classification: List is a mutable type of datatype\n",
    "#Define: a pair of square brackets are used-->[] and items are seperated by comma(,)\n",
    "# each items are acceses by their index.. always the firstitem in list starts with index 0"
   ]
  },
  {
   "cell_type": "code",
   "execution_count": 2,
   "metadata": {},
   "outputs": [
    {
     "name": "stdout",
     "output_type": "stream",
     "text": [
      "['grapes', 'mango', 'orange', 'guava', 'kiwi', 'sapota', 'apple', 'watermelon', 'strawberry']\n"
     ]
    }
   ],
   "source": [
    "fruits = ['grapes', 'mango', 'orange', 'guava', 'kiwi', 'sapota', 'apple', 'watermelon', 'strawberry']\n",
    "print(fruits)"
   ]
  },
  {
   "cell_type": "code",
   "execution_count": 4,
   "metadata": {},
   "outputs": [
    {
     "data": {
      "text/plain": [
       "list"
      ]
     },
     "execution_count": 4,
     "metadata": {},
     "output_type": "execute_result"
    }
   ],
   "source": [
    "# check the data type of list\n",
    "type(fruits)"
   ]
  },
  {
   "cell_type": "code",
   "execution_count": 5,
   "metadata": {},
   "outputs": [
    {
     "name": "stdout",
     "output_type": "stream",
     "text": [
      "mango\n"
     ]
    }
   ],
   "source": [
    "# Accesing the elements of the list\n",
    "# Indexing: The order of item stated by index\n",
    "fruits = ['grapes', 'mango', 'orange', 'guava', 'kiwi', 'sapota', 'apple', 'watermelon', 'strawberry']\n",
    "#          0         1         2          3       4       5         6        7             8\n",
    "print(fruits[1])"
   ]
  },
  {
   "cell_type": "code",
   "execution_count": 6,
   "metadata": {},
   "outputs": [
    {
     "name": "stdout",
     "output_type": "stream",
     "text": [
      "Mango\n"
     ]
    }
   ],
   "source": [
    "print(fruits[1].title())"
   ]
  },
  {
   "cell_type": "code",
   "execution_count": 7,
   "metadata": {},
   "outputs": [
    {
     "name": "stdout",
     "output_type": "stream",
     "text": [
      "Sapota\n"
     ]
    }
   ],
   "source": [
    "print(fruits[5].title())"
   ]
  },
  {
   "cell_type": "code",
   "execution_count": 8,
   "metadata": {},
   "outputs": [],
   "source": [
    "#Operations on List\n",
    "# 1. Adding Elements to list ----> append, insert\n",
    "# 2. Modify the elements in the list ---> done using indexing\n",
    "# 3. Deleting the elements in the list --> del, pop"
   ]
  },
  {
   "cell_type": "code",
   "execution_count": 9,
   "metadata": {},
   "outputs": [],
   "source": [
    "# 1. Adding Elements to list\n",
    "fruits = ['grapes', 'mango', 'orange', 'guava', 'kiwi', 'sapota', 'apple', 'watermelon']"
   ]
  },
  {
   "cell_type": "code",
   "execution_count": 10,
   "metadata": {},
   "outputs": [
    {
     "name": "stdout",
     "output_type": "stream",
     "text": [
      "['grapes', 'mango', 'orange', 'guava', 'kiwi', 'sapota', 'apple', 'watermelon']\n"
     ]
    }
   ],
   "source": [
    "print(fruits)"
   ]
  },
  {
   "cell_type": "code",
   "execution_count": 11,
   "metadata": {},
   "outputs": [
    {
     "name": "stdout",
     "output_type": "stream",
     "text": [
      "['grapes', 'mango', 'orange', 'guava', 'kiwi', 'sapota', 'apple', 'watermelon', 'blueberry']\n"
     ]
    }
   ],
   "source": [
    "fruits.append('blueberry')\n",
    "print(fruits)"
   ]
  },
  {
   "cell_type": "code",
   "execution_count": 12,
   "metadata": {},
   "outputs": [
    {
     "name": "stdout",
     "output_type": "stream",
     "text": [
      "['grapes', 'mango', 'orange', 'guava', 'kiwi', 'sapota', 'apple', 'watermelon', 'blueberry', 'muskmelon']\n"
     ]
    }
   ],
   "source": [
    "fruits.append('muskmelon')\n",
    "print(fruits)"
   ]
  },
  {
   "cell_type": "code",
   "execution_count": 13,
   "metadata": {},
   "outputs": [
    {
     "name": "stdout",
     "output_type": "stream",
     "text": [
      "['grapes', 'mango', 'banana', 'orange', 'guava', 'kiwi', 'sapota', 'apple', 'watermelon', 'blueberry', 'muskmelon']\n"
     ]
    }
   ],
   "source": [
    "# append--> always adds the element at the end of the list\n",
    "\n",
    "#insert-->Adds the items at the particular position of the list\n",
    "\n",
    "fruits.insert(2, 'banana')# adds element at 2nd index\n",
    "print(fruits)"
   ]
  },
  {
   "cell_type": "code",
   "execution_count": 14,
   "metadata": {},
   "outputs": [
    {
     "name": "stdout",
     "output_type": "stream",
     "text": [
      "['grapes', 'mango', 'banana', 'orange', 'guava', 'kiwi', 'sapota', 'apple', 'watermelon', 'blueberry', 'muskmelon']\n"
     ]
    }
   ],
   "source": [
    "#2. Modify the elements\n",
    "print(fruits)"
   ]
  },
  {
   "cell_type": "code",
   "execution_count": 15,
   "metadata": {},
   "outputs": [
    {
     "name": "stdout",
     "output_type": "stream",
     "text": [
      "['dragon_fruit', 'mango', 'banana', 'orange', 'guava', 'kiwi', 'sapota', 'apple', 'watermelon', 'blueberry', 'muskmelon']\n"
     ]
    }
   ],
   "source": [
    "fruits[0] ='dragon_fruit' # 1st element in the fruits list is changed to 'dragon_fruit' from 'grapes'\n",
    "print(fruits)"
   ]
  },
  {
   "cell_type": "code",
   "execution_count": 16,
   "metadata": {},
   "outputs": [
    {
     "name": "stdout",
     "output_type": "stream",
     "text": [
      "['dragon_fruit', 'mango', 'banana', 'orange', 'guava', 'kiwi', 'sapota', 'apple', 'watermelon', 'blueberry', 'muskmelon']\n"
     ]
    }
   ],
   "source": [
    "# 3. Delete the elements in the list\n",
    "print(fruits)"
   ]
  },
  {
   "cell_type": "code",
   "execution_count": 17,
   "metadata": {},
   "outputs": [
    {
     "name": "stdout",
     "output_type": "stream",
     "text": [
      "['mango', 'banana', 'orange', 'guava', 'kiwi', 'sapota', 'apple', 'watermelon', 'blueberry', 'muskmelon']\n"
     ]
    }
   ],
   "source": [
    "del fruits[0]# deletes the 0th element in list permanently\n",
    "print(fruits)"
   ]
  },
  {
   "cell_type": "code",
   "execution_count": 18,
   "metadata": {},
   "outputs": [
    {
     "name": "stdout",
     "output_type": "stream",
     "text": [
      "['mango', 'banana', 'orange', 'guava', 'kiwi', 'sapota', 'apple', 'watermelon', 'muskmelon']\n"
     ]
    }
   ],
   "source": [
    "del fruits[8] # deletes the 8th element in list permanently\n",
    "print(fruits)"
   ]
  },
  {
   "cell_type": "code",
   "execution_count": 19,
   "metadata": {},
   "outputs": [
    {
     "name": "stdout",
     "output_type": "stream",
     "text": [
      "['mango', 'banana', 'orange', 'guava', 'kiwi', 'sapota', 'apple', 'watermelon']\n",
      "muskmelon\n"
     ]
    }
   ],
   "source": [
    "# Alternate\n",
    "# pop ---> deletes the elements temporarily and maintains a carbon copy of the deleted items\n",
    "\n",
    "x = fruits.pop()\n",
    "print(fruits)\n",
    "print(x)        # seperate list of deleted elements in variable 'x'"
   ]
  },
  {
   "cell_type": "code",
   "execution_count": null,
   "metadata": {},
   "outputs": [],
   "source": [
    "## *** 1. Difference between append and insert in a list\n",
    "#      2. Difference between pop and del in a list"
   ]
  },
  {
   "cell_type": "code",
   "execution_count": null,
   "metadata": {},
   "outputs": [],
   "source": []
  }
 ],
 "metadata": {
  "kernelspec": {
   "display_name": "Python 3",
   "language": "python",
   "name": "python3"
  },
  "language_info": {
   "codemirror_mode": {
    "name": "ipython",
    "version": 3
   },
   "file_extension": ".py",
   "mimetype": "text/x-python",
   "name": "python",
   "nbconvert_exporter": "python",
   "pygments_lexer": "ipython3",
   "version": "3.8.5"
  }
 },
 "nbformat": 4,
 "nbformat_minor": 4
}

{
 "cells": [
  {
   "cell_type": "code",
   "execution_count": 1,
   "metadata": {},
   "outputs": [],
   "source": [
    "# string methods contd..\n",
    "#title() ---> to get the title in correct format"
   ]
  },
  {
   "cell_type": "code",
   "execution_count": 2,
   "metadata": {},
   "outputs": [
    {
     "name": "stdout",
     "output_type": "stream",
     "text": [
      "geeta godi\n",
      "Geeta Godi\n",
      "GEETA GODI\n",
      "geeta godi\n"
     ]
    }
   ],
   "source": [
    "#example\n",
    "fullname = 'geeta godi'\n",
    "print(fullname)\n",
    "print(fullname.title()) #--- First letter in capitals\n",
    "print(fullname.upper()) #--- All letter in capitals\n",
    "print(fullname.lower()) #--- All letter in lowercase"
   ]
  },
  {
   "cell_type": "code",
   "execution_count": 3,
   "metadata": {},
   "outputs": [
    {
     "name": "stdout",
     "output_type": "stream",
     "text": [
      "geeta.godi\n"
     ]
    }
   ],
   "source": [
    "# Introduction to f-strings\n",
    "#syntax: f\"customwords{{place_holder1}, place_holder2}{place_holder3}....}\"\n",
    "#example\n",
    "first_name = \"geeta\"\n",
    "last_name =\"godi\"\n",
    "# to get full name\n",
    "full_name = f\"{first_name}.{last_name}\"\n",
    "print(full_name)"
   ]
  },
  {
   "cell_type": "code",
   "execution_count": 4,
   "metadata": {},
   "outputs": [
    {
     "name": "stdout",
     "output_type": "stream",
     "text": [
      "Geeta.Godi\n"
     ]
    }
   ],
   "source": [
    "# alternate\n",
    "# Introduction to f-strings\n",
    "#syntax: f\"customwords,{place_holder1}.place_holder2}.{place_holder3}....\"\n",
    "#example\n",
    "first_name = \"geeta\"\n",
    "last_name =\"godi\"\n",
    "# to get full name\n",
    "full_name = f\"{first_name.title()}.{last_name.title()}\"\n",
    "print(full_name)"
   ]
  },
  {
   "cell_type": "code",
   "execution_count": 5,
   "metadata": {},
   "outputs": [
    {
     "name": "stdout",
     "output_type": "stream",
     "text": [
      "Hi,Geeta.Godi\n"
     ]
    }
   ],
   "source": [
    "# to write custom msgs\n",
    "first_name = \"geeta\"\n",
    "last_name =\"godi\"\n",
    "# to get full name with customized msg\n",
    "full_name = f\"Hi,{first_name.title()}.{last_name.title()}\"\n",
    "print(full_name)"
   ]
  },
  {
   "cell_type": "code",
   "execution_count": 6,
   "metadata": {},
   "outputs": [
    {
     "name": "stdout",
     "output_type": "stream",
     "text": [
      "fav_pgmg_lang:pythonCC++JavaJavaScriptSwift\n"
     ]
    }
   ],
   "source": [
    "# Adding white spaces to strings\n",
    "# i. \\n ---> new line delimeter\n",
    "# ii. \\t ---> tab delimeter\n",
    "\n",
    "# Example\n",
    "print(\"fav_pgmg_lang:pythonCC++JavaJavaScriptSwift\")#-- single line statenet without space, unable to understand the txt"
   ]
  },
  {
   "cell_type": "code",
   "execution_count": 7,
   "metadata": {},
   "outputs": [
    {
     "name": "stdout",
     "output_type": "stream",
     "text": [
      "fav_pgmg_lang:\n",
      "\t python \n",
      "\t C \n",
      "\t C++ \n",
      "\t Java \n",
      "\t JavaScript \n",
      "\t Swift\n"
     ]
    }
   ],
   "source": [
    "print(\"fav_pgmg_lang:\\n\\t python \\n\\t C \\n\\t C++ \\n\\t Java \\n\\t JavaScript \\n\\t Swift\")\n",
    "# with  new line delimeter and tab delimeters"
   ]
  },
  {
   "cell_type": "code",
   "execution_count": 8,
   "metadata": {},
   "outputs": [
    {
     "name": "stdout",
     "output_type": "stream",
     "text": [
      "fav_pgmg_lang:\n",
      "\t\t python \n",
      "\t\t C \n",
      "\t\t C++ \n",
      "\t\t Java \n",
      "\t\t JavaScript \n",
      "\t\t Swift\n"
     ]
    }
   ],
   "source": [
    "print(\"fav_pgmg_lang:\\n\\t\\t python \\n\\t\\t C \\n\\t\\t C++ \\n\\t\\t Java \\n\\t\\t JavaScript \\n\\t\\t Swift\")"
   ]
  },
  {
   "cell_type": "code",
   "execution_count": 9,
   "metadata": {},
   "outputs": [
    {
     "name": "stdout",
     "output_type": "stream",
     "text": [
      "python\n"
     ]
    }
   ],
   "source": [
    "# removing white spaces from strings\n",
    "# Ex1\n",
    "fav_pgm_lan = 'python'\n",
    "print(fav_pgm_lan)"
   ]
  },
  {
   "cell_type": "code",
   "execution_count": 10,
   "metadata": {},
   "outputs": [
    {
     "name": "stdout",
     "output_type": "stream",
     "text": [
      " python\n"
     ]
    }
   ],
   "source": [
    "# Ex 2\n",
    "fav_pgm_lan1 = ' python' # gap on leftside\n",
    "print(fav_pgm_lan1)"
   ]
  },
  {
   "cell_type": "code",
   "execution_count": 11,
   "metadata": {},
   "outputs": [
    {
     "name": "stdout",
     "output_type": "stream",
     "text": [
      "python \n"
     ]
    }
   ],
   "source": [
    "# Ex 3\n",
    "fav_pgm_lan2 = 'python '# gap on rightside\n",
    "print(fav_pgm_lan2)"
   ]
  },
  {
   "cell_type": "code",
   "execution_count": 12,
   "metadata": {},
   "outputs": [
    {
     "name": "stdout",
     "output_type": "stream",
     "text": [
      " python  \n"
     ]
    }
   ],
   "source": [
    "# Ex 4\n",
    "fav_pgm_lan3 = ' python  ' # gap on bothsides\n",
    "print(fav_pgm_lan3)"
   ]
  },
  {
   "cell_type": "code",
   "execution_count": 13,
   "metadata": {},
   "outputs": [
    {
     "name": "stdout",
     "output_type": "stream",
     "text": [
      " python\n",
      "python \n",
      " python  \n"
     ]
    }
   ],
   "source": [
    "fav_pgm_lan1.lstrip()\n",
    "print(fav_pgm_lan1)\n",
    "fav_pgm_lan2.rstrip()\n",
    "print(fav_pgm_lan2)\n",
    "fav_pgm_lan3.strip()\n",
    "print(fav_pgm_lan3)"
   ]
  },
  {
   "cell_type": "code",
   "execution_count": null,
   "metadata": {},
   "outputs": [],
   "source": [
    "##***Processing time is more if only strip() for the requirement of either right or left side whitespace removing. \n",
    "#so we have  3 methods\n",
    "# i. lstrip() ii. rstrip() iii. strip(()"
   ]
  }
 ],
 "metadata": {
  "kernelspec": {
   "display_name": "Python 3",
   "language": "python",
   "name": "python3"
  },
  "language_info": {
   "codemirror_mode": {
    "name": "ipython",
    "version": 3
   },
   "file_extension": ".py",
   "mimetype": "text/x-python",
   "name": "python",
   "nbconvert_exporter": "python",
   "pygments_lexer": "ipython3",
   "version": "3.8.5"
  }
 },
 "nbformat": 4,
 "nbformat_minor": 4
}
